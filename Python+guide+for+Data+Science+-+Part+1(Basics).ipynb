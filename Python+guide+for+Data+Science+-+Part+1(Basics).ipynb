{
 "cells": [
  {
   "cell_type": "markdown",
   "metadata": {},
   "source": [
    "# This is a guide for Python in Data Science"
   ]
  },
  {
   "cell_type": "markdown",
   "metadata": {},
   "source": [
    "Usually Jupyter notebook (iPython) is used to write python code. There are 4 different types of cell in Jupyte notebook, which are Code, Markdown, Raw NBConver and Heading. To work in a markdown cell, select the cell (a blue boundary should appear around the cell; you're in command mode) and press Enter on the keyboard, then it will be on editing mode (the cell boundary turns green in color). To switch back to command mode, press Esc. To run the cell, and go to the next cell, press Shift+Enter. If you want to run the cell without advancing to the next, press Ctrl+Enter."
   ]
  },
  {
   "cell_type": "markdown",
   "metadata": {},
   "source": [
    "# Variable and data types"
   ]
  },
  {
   "cell_type": "code",
   "execution_count": 34,
   "metadata": {},
   "outputs": [
    {
     "name": "stdout",
     "output_type": "stream",
     "text": [
      "5\n"
     ]
    }
   ],
   "source": [
    "#define variable\n",
    "x = 2+3\n",
    "print(x)"
   ]
  },
  {
   "cell_type": "code",
   "execution_count": 35,
   "metadata": {},
   "outputs": [
    {
     "name": "stdout",
     "output_type": "stream",
     "text": [
      "x+1 = 6\n"
     ]
    }
   ],
   "source": [
    "#increase x by 1\n",
    "y = x+1\n",
    "print('x+1 =', y)"
   ]
  },
  {
   "cell_type": "code",
   "execution_count": 36,
   "metadata": {},
   "outputs": [
    {
     "name": "stdout",
     "output_type": "stream",
     "text": [
      "x+1 =y= 7\n"
     ]
    }
   ],
   "source": [
    "#another method of increament\n",
    "y += 1\n",
    "print('x+1 =y=',y)"
   ]
  },
  {
   "cell_type": "code",
   "execution_count": 42,
   "metadata": {},
   "outputs": [
    {
     "name": "stdout",
     "output_type": "stream",
     "text": [
      "x div by y is 0.7142857142857143\n",
      "x // y is 0\n",
      "x % y id 5\n"
     ]
    }
   ],
   "source": [
    "#divide x by y\n",
    "d = x/y\n",
    "print('x div by y is', d)\n",
    "floor = x//y\n",
    "print('x // y is',floor)  #print the interger part/quotient of the division\n",
    "modulo=x%y\n",
    "print('x % y id', modulo)  #reminder of the division"
   ]
  },
  {
   "cell_type": "code",
   "execution_count": 43,
   "metadata": {},
   "outputs": [
    {
     "data": {
      "text/plain": [
       "float"
      ]
     },
     "execution_count": 43,
     "metadata": {},
     "output_type": "execute_result"
    }
   ],
   "source": [
    "#check the variable type\n",
    "type(1.88)"
   ]
  },
  {
   "cell_type": "markdown",
   "metadata": {},
   "source": [
    "This is a float which has both the integer and the fractional part."
   ]
  },
  {
   "cell_type": "code",
   "execution_count": 44,
   "metadata": {},
   "outputs": [
    {
     "data": {
      "text/plain": [
       "str"
      ]
     },
     "execution_count": 44,
     "metadata": {},
     "output_type": "execute_result"
    }
   ],
   "source": [
    "#string type variable only text\n",
    "type('Welcome to Python')"
   ]
  },
  {
   "cell_type": "markdown",
   "metadata": {},
   "source": [
    "There are some standard library, e.g. math module, which have various useful functions and we need to import it before using. "
   ]
  },
  {
   "cell_type": "code",
   "execution_count": 45,
   "metadata": {},
   "outputs": [
    {
     "data": {
      "text/plain": [
       "3.141592653589793"
      ]
     },
     "execution_count": 45,
     "metadata": {},
     "output_type": "execute_result"
    }
   ],
   "source": [
    "import math\n",
    "math.pi"
   ]
  },
  {
   "cell_type": "code",
   "execution_count": 54,
   "metadata": {},
   "outputs": [
    {
     "data": {
      "text/plain": [
       "2.0"
      ]
     },
     "execution_count": 54,
     "metadata": {},
     "output_type": "execute_result"
    }
   ],
   "source": [
    "math.sqrt(4)"
   ]
  },
  {
   "cell_type": "markdown",
   "metadata": {},
   "source": [
    "If you want to learn more about 'math' module us help(math) to call the help function on it. The online documentation of the module is https://docs.python.org/3/library/math.html. "
   ]
  },
  {
   "cell_type": "code",
   "execution_count": 56,
   "metadata": {},
   "outputs": [
    {
     "data": {
      "text/plain": [
       "2.0"
      ]
     },
     "execution_count": 56,
     "metadata": {},
     "output_type": "execute_result"
    }
   ],
   "source": [
    "#convert a number from integer to float and vice versa\n",
    "float(4/2)"
   ]
  },
  {
   "cell_type": "code",
   "execution_count": 64,
   "metadata": {},
   "outputs": [
    {
     "data": {
      "text/plain": [
       "'10+2'"
      ]
     },
     "execution_count": 64,
     "metadata": {},
     "output_type": "execute_result"
    }
   ],
   "source": [
    "#convert integer or float into string\n",
    "str('10+2')"
   ]
  },
  {
   "cell_type": "code",
   "execution_count": 68,
   "metadata": {},
   "outputs": [
    {
     "data": {
      "text/plain": [
       "11.5"
      ]
     },
     "execution_count": 68,
     "metadata": {},
     "output_type": "execute_result"
    }
   ],
   "source": [
    "#\n",
    "float('10.5')+1"
   ]
  },
  {
   "cell_type": "markdown",
   "metadata": {},
   "source": [
    "# string variables"
   ]
  },
  {
   "cell_type": "code",
   "execution_count": 69,
   "metadata": {
    "collapsed": true
   },
   "outputs": [],
   "source": [
    "string = 'I live in Reno Nevada USA'"
   ]
  },
  {
   "cell_type": "code",
   "execution_count": 70,
   "metadata": {},
   "outputs": [
    {
     "data": {
      "text/plain": [
       "'I'"
      ]
     },
     "execution_count": 70,
     "metadata": {},
     "output_type": "execute_result"
    }
   ],
   "source": [
    "#python is a 0 indexing language which means it start indexing from 0. If you count from the end you need to use -1\n",
    "string[0]"
   ]
  },
  {
   "cell_type": "code",
   "execution_count": 75,
   "metadata": {},
   "outputs": [
    {
     "data": {
      "text/plain": [
       "'A'"
      ]
     },
     "execution_count": 75,
     "metadata": {},
     "output_type": "execute_result"
    }
   ],
   "source": [
    "string[-1]"
   ]
  },
  {
   "cell_type": "code",
   "execution_count": 77,
   "metadata": {},
   "outputs": [
    {
     "data": {
      "text/plain": [
       "'live'"
      ]
     },
     "execution_count": 77,
     "metadata": {},
     "output_type": "execute_result"
    }
   ],
   "source": [
    "#If you want to extract a word you need to extract all the letters of that word\n",
    "string[2:6]"
   ]
  },
  {
   "cell_type": "markdown",
   "metadata": {},
   "source": [
    "Every space in a string have an indexing here. You need to write the starting and ending index in the extraction if you want a word and the method we have used is called slicing. Here the lower limit is the (n+1)th index and upper limit is not included in the extraction. "
   ]
  },
  {
   "cell_type": "code",
   "execution_count": 3,
   "metadata": {
    "collapsed": true
   },
   "outputs": [],
   "source": [
    "def template(x,y):\n",
    "    if x > y:\n",
    "        return abs(y)\n",
    "    return abs(x)"
   ]
  },
  {
   "cell_type": "code",
   "execution_count": 4,
   "metadata": {},
   "outputs": [
    {
     "data": {
      "text/plain": [
       "8"
      ]
     },
     "execution_count": 4,
     "metadata": {},
     "output_type": "execute_result"
    }
   ],
   "source": [
    "template(4,-8)"
   ]
  },
  {
   "cell_type": "code",
   "execution_count": 10,
   "metadata": {
    "collapsed": true
   },
   "outputs": [],
   "source": [
    "def con(x,y):\n",
    "    if abs(x-y) == 1:\n",
    "        return(\"consecutive\")\n",
    "    return (\"not consecutive\")"
   ]
  },
  {
   "cell_type": "code",
   "execution_count": 11,
   "metadata": {},
   "outputs": [
    {
     "data": {
      "text/plain": [
       "'not consecutive'"
      ]
     },
     "execution_count": 11,
     "metadata": {},
     "output_type": "execute_result"
    }
   ],
   "source": [
    "con(2,4)"
   ]
  },
  {
   "cell_type": "code",
   "execution_count": 13,
   "metadata": {
    "collapsed": true
   },
   "outputs": [],
   "source": [
    "st1='Travel to SF: 2 hrs'\n",
    "st2='Travel to UK: 14 hrs + 4 hrs layover'\n",
    "st3='Travel to BD: 6 hrs'"
   ]
  },
  {
   "cell_type": "code",
   "execution_count": 32,
   "metadata": {
    "collapsed": true
   },
   "outputs": [],
   "source": [
    "Total = str(int(st1[14])+int(st2[14:16])+int(st2[23])+int(st3[14]))+' hours.'"
   ]
  },
  {
   "cell_type": "code",
   "execution_count": 33,
   "metadata": {},
   "outputs": [
    {
     "name": "stdout",
     "output_type": "stream",
     "text": [
      "Total time to travel Bangladesh from SF is: 26 hours. Which is really exhaustive.\n"
     ]
    }
   ],
   "source": [
    "print('Total time to travel Bangladesh from SF is:', Total, 'Which is really exhaustive.')"
   ]
  },
  {
   "cell_type": "code",
   "execution_count": 37,
   "metadata": {},
   "outputs": [
    {
     "name": "stdout",
     "output_type": "stream",
     "text": [
      "19\n",
      "36\n",
      "19\n"
     ]
    }
   ],
   "source": [
    "print(len(st1))\n",
    "print(len(st2))\n",
    "print(len(st3))"
   ]
  },
  {
   "cell_type": "code",
   "execution_count": 56,
   "metadata": {},
   "outputs": [
    {
     "name": "stdout",
     "output_type": "stream",
     "text": [
      "Total time to travel Bangladesh from SF is: 26 hours. Which is exhaustive.\n"
     ]
    }
   ],
   "source": [
    "Total = str(int(st1[-5])+int(st2[-13])+int(st2[-22:-20])+int(st3[-5]))+' hours.'\n",
    "print('Total time to travel Bangladesh from SF is:', Total, 'Which is exhaustive.')"
   ]
  },
  {
   "cell_type": "code",
   "execution_count": 57,
   "metadata": {},
   "outputs": [
    {
     "data": {
      "text/plain": [
       "'travel to sf: 2 hrs'"
      ]
     },
     "execution_count": 57,
     "metadata": {},
     "output_type": "execute_result"
    }
   ],
   "source": [
    "#change (convert) letters into upper/lower case\n",
    "st1.lower()"
   ]
  },
  {
   "cell_type": "code",
   "execution_count": 58,
   "metadata": {},
   "outputs": [
    {
     "name": "stdout",
     "output_type": "stream",
     "text": [
      "TOTAL TIME TO TRAVEL BANGLADESH FROM SF IS: 26 hours. Which is exhaustive.\n"
     ]
    }
   ],
   "source": [
    "print('Total time to travel Bangladesh from SF is:'.upper(), Total, 'Which is exhaustive.')"
   ]
  },
  {
   "cell_type": "code",
   "execution_count": 1,
   "metadata": {},
   "outputs": [
    {
     "data": {
      "text/plain": [
       "'Saad U. Mahmud '"
      ]
     },
     "execution_count": 1,
     "metadata": {},
     "output_type": "execute_result"
    }
   ],
   "source": [
    "#remove unnecessay characters\n",
    "myname='bzSaad U. Mahmud '\n",
    "myname.strip('bznu')"
   ]
  },
  {
   "cell_type": "code",
   "execution_count": 2,
   "metadata": {},
   "outputs": [
    {
     "name": "stdout",
     "output_type": "stream",
     "text": [
      "Saad U. Mahmud \n",
      "bzSaad U. Mahmud \n"
     ]
    }
   ],
   "source": [
    "#removing the leading and tailoring characters seperately\n",
    "print(myname.lstrip('bznu'))\n",
    "print(myname.rstrip('bznu'))"
   ]
  },
  {
   "cell_type": "code",
   "execution_count": 3,
   "metadata": {},
   "outputs": [
    {
     "data": {
      "text/plain": [
       "2"
      ]
     },
     "execution_count": 3,
     "metadata": {},
     "output_type": "execute_result"
    }
   ],
   "source": [
    "myname.find('Saad')"
   ]
  },
  {
   "cell_type": "code",
   "execution_count": 73,
   "metadata": {},
   "outputs": [
    {
     "data": {
      "text/plain": [
       "'1: Ini. 2: Exe. 3: Review.'"
      ]
     },
     "execution_count": 73,
     "metadata": {},
     "output_type": "execute_result"
    }
   ],
   "source": [
    "# Replacing specific word of a character or substring\n",
    "\n",
    "y = 'Week 1: Ini. Week 2: Exe. Week 3: Review.'\n",
    "y.replace('Week ', '')"
   ]
  },
  {
   "cell_type": "code",
   "execution_count": 74,
   "metadata": {},
   "outputs": [
    {
     "name": "stdout",
     "output_type": "stream",
     "text": [
      "Week 1: Ini. Week 2: Exe. Week 3: Review.\n"
     ]
    }
   ],
   "source": [
    "print(y)"
   ]
  },
  {
   "cell_type": "code",
   "execution_count": 76,
   "metadata": {},
   "outputs": [
    {
     "name": "stdout",
     "output_type": "stream",
     "text": [
      "We will meet at 3 o'clock on 3rd May.\n"
     ]
    }
   ],
   "source": [
    "print('We will meet at 3 o\\'clock on 3rd May.')"
   ]
  },
  {
   "cell_type": "code",
   "execution_count": 78,
   "metadata": {},
   "outputs": [
    {
     "name": "stdout",
     "output_type": "stream",
     "text": [
      "Home:\t13\n"
     ]
    }
   ],
   "source": [
    "# To introduce a tab character, use \\t\n",
    "\n",
    "score = 'Home:\\t13'\n",
    "print(score)"
   ]
  },
  {
   "cell_type": "code",
   "execution_count": 79,
   "metadata": {},
   "outputs": [
    {
     "name": "stdout",
     "output_type": "stream",
     "text": [
      "Home:\t13\n",
      "Away:\t10\n"
     ]
    }
   ],
   "source": [
    "# To introduce a newline character (similar to pressing Enter on your keyboard), use \\n\n",
    "\n",
    "scores = 'Home:\\t13\\nAway:\\t10'\n",
    "print(scores)"
   ]
  },
  {
   "cell_type": "markdown",
   "metadata": {},
   "source": [
    "# List: collection of data"
   ]
  },
  {
   "cell_type": "markdown",
   "metadata": {},
   "source": [
    "We can do indexing, slicing, and concatenating with the lists. "
   ]
  },
  {
   "cell_type": "code",
   "execution_count": 2,
   "metadata": {},
   "outputs": [
    {
     "name": "stdout",
     "output_type": "stream",
     "text": [
      "['Princeton University', 'Harvard University', 'Columbia University', 'Massachusetts Institute of Technology', 'University of Chicago', 'Yale University', 'Stanford University', 'Duke University', 'University of Pennsylvania', 'Johns Hopkins University']\n"
     ]
    }
   ],
   "source": [
    "topschools = ['Princeton University', 'Harvard University','Columbia University','Massachusetts Institute of Technology',\n",
    "'University of Chicago','Yale University','Stanford University','Duke University','University of Pennsylvania',\n",
    "              'Johns Hopkins University']\n",
    "print(topschools)"
   ]
  },
  {
   "cell_type": "code",
   "execution_count": 3,
   "metadata": {},
   "outputs": [
    {
     "data": {
      "text/plain": [
       "'Stanford University'"
      ]
     },
     "execution_count": 3,
     "metadata": {},
     "output_type": "execute_result"
    }
   ],
   "source": [
    "#which one is in rank 7\n",
    "topschools[6]"
   ]
  },
  {
   "cell_type": "code",
   "execution_count": 5,
   "metadata": {},
   "outputs": [
    {
     "data": {
      "text/plain": [
       "['Princeton University',\n",
       " 'Harvard University',\n",
       " 'Columbia University',\n",
       " 'Massachusetts Institute of Technology',\n",
       " 'University of Chicago',\n",
       " 'Yale University',\n",
       " 'Stanford University',\n",
       " 'Duke University',\n",
       " 'University of Pennsylvania',\n",
       " 'Johns Hopkins University',\n",
       " 'Northwestern University',\n",
       " 'California Institute of Technology',\n",
       " 'Dartmouth College',\n",
       " 'Brown University',\n",
       " 'Vanderbilt University',\n",
       " 'Cornell University',\n",
       " 'Rice University',\n",
       " 'University of Notre Dame',\n",
       " 'University of California--Los Angeles',\n",
       " 'Washington University in St. Louis']"
      ]
     },
     "execution_count": 5,
     "metadata": {},
     "output_type": "execute_result"
    }
   ],
   "source": [
    "topnext = ['Northwestern University','California Institute of Technology','Dartmouth College','Brown University','Vanderbilt University',\n",
    "          'Cornell University','Rice University','University of Notre Dame','University of California--Los Angeles', 'Washington University in St. Louis']\n",
    "topschools+topnext"
   ]
  },
  {
   "cell_type": "markdown",
   "metadata": {},
   "source": [
    "\n",
    "Lists are mutable their identities can be changed in-place without creating a new list. But strings are immutable."
   ]
  },
  {
   "cell_type": "code",
   "execution_count": 6,
   "metadata": {},
   "outputs": [
    {
     "data": {
      "text/plain": [
       "20"
      ]
     },
     "execution_count": 6,
     "metadata": {},
     "output_type": "execute_result"
    }
   ],
   "source": [
    "# We can also add multiple items to the list is to use the \"extend\" method\n",
    "\n",
    "topschools.extend(topnext)\n",
    "len(topschools)\n",
    "#print(topschools)"
   ]
  },
  {
   "cell_type": "code",
   "execution_count": 7,
   "metadata": {},
   "outputs": [
    {
     "data": {
      "text/plain": [
       "['University of California--Los Angeles',\n",
       " 'Washington University in St. Louis',\n",
       " 'Emory University']"
      ]
     },
     "execution_count": 7,
     "metadata": {},
     "output_type": "execute_result"
    }
   ],
   "source": [
    "# or we can add items one at a time using the \"append\" method\n",
    "\n",
    "topschools.append('Emory University')\n",
    "topschools[-3:]   # let's just look at the end of the list"
   ]
  },
  {
   "cell_type": "code",
   "execution_count": 11,
   "metadata": {},
   "outputs": [
    {
     "data": {
      "text/plain": [
       "'University of California--Los Angeles'"
      ]
     },
     "execution_count": 11,
     "metadata": {},
     "output_type": "execute_result"
    }
   ],
   "source": [
    "#just the 3rd from the bottom/ no. 17th\n",
    "topschools[-3] "
   ]
  },
  {
   "cell_type": "code",
   "execution_count": 13,
   "metadata": {},
   "outputs": [
    {
     "data": {
      "text/plain": [
       "True"
      ]
     },
     "execution_count": 13,
     "metadata": {},
     "output_type": "execute_result"
    }
   ],
   "source": [
    "# check if Rice uni is in the top 20 list\n",
    "'Rice University' in topschools"
   ]
  },
  {
   "cell_type": "code",
   "execution_count": 15,
   "metadata": {},
   "outputs": [
    {
     "data": {
      "text/plain": [
       "16"
      ]
     },
     "execution_count": 15,
     "metadata": {},
     "output_type": "execute_result"
    }
   ],
   "source": [
    "#what is the rank of Rice Uni?\n",
    "topschools.index('Rice University')"
   ]
  },
  {
   "cell_type": "code",
   "execution_count": 16,
   "metadata": {},
   "outputs": [
    {
     "data": {
      "text/plain": [
       "['Brown University',\n",
       " 'California Institute of Technology',\n",
       " 'Columbia University',\n",
       " 'Cornell University',\n",
       " 'Dartmouth College',\n",
       " 'Duke University',\n",
       " 'Emory University',\n",
       " 'Harvard University',\n",
       " 'Johns Hopkins University',\n",
       " 'Massachusetts Institute of Technology']"
      ]
     },
     "execution_count": 16,
     "metadata": {},
     "output_type": "execute_result"
    }
   ],
   "source": [
    "# Let's get the list in alphabetical order\n",
    "\n",
    "topschools.sort()\n",
    "topschools[:10]   # just looking at the first 10 to verify sorting"
   ]
  },
  {
   "cell_type": "code",
   "execution_count": 18,
   "metadata": {},
   "outputs": [
    {
     "data": {
      "text/plain": [
       "[3, 5, 10, 15, 30, 35, 40, 60, 100]"
      ]
     },
     "execution_count": 18,
     "metadata": {},
     "output_type": "execute_result"
    }
   ],
   "source": [
    "# make a list of numbers and then sort the number\n",
    "newlist = [40,10,5,100,30,60,3,15,35]\n",
    "newlist.sort()\n",
    "newlist"
   ]
  },
  {
   "cell_type": "code",
   "execution_count": 23,
   "metadata": {},
   "outputs": [
    {
     "name": "stdout",
     "output_type": "stream",
     "text": [
      "[2, 5, 7]\n"
     ]
    }
   ],
   "source": [
    "#you can make a list inside a list which will be a nestedlist\n",
    "list2 = [[2,5,7], [30,40,60],[100,200,500]]\n",
    "print(list2[0])"
   ]
  },
  {
   "cell_type": "code",
   "execution_count": 24,
   "metadata": {},
   "outputs": [
    {
     "name": "stdout",
     "output_type": "stream",
     "text": [
      "30\n"
     ]
    }
   ],
   "source": [
    "#get the first element of the second list(write the list number first and then the element number)\n",
    "print(list2[1][0])"
   ]
  },
  {
   "cell_type": "markdown",
   "metadata": {},
   "source": [
    "For more information on lists go to: https://www.tutorialspoint.com/python/python_lists.htm; you will get full documentation at the official Python documentation page."
   ]
  },
  {
   "cell_type": "markdown",
   "metadata": {},
   "source": [
    "Exercise :\n",
    "\n",
    "You have a class of students whose hights are: 5.6,5.8,5.9,5.3,5.5,5.10,6.1,,6.2,5.8. Find the median height by taking the average of the two \"middle\" scores.\n",
    "\n",
    "Hint: First, sort the scores. To find the locations of the \"middle\" scores, first determine the number of scores you're dealing with using the len() function."
   ]
  },
  {
   "cell_type": "markdown",
   "metadata": {},
   "source": [
    "Ans: The scores = [89, 79, 83, 85, 95, 50, 77, 90, 100, 91, 69, 87, 93, 88]"
   ]
  },
  {
   "cell_type": "code",
   "execution_count": 41,
   "metadata": {},
   "outputs": [
    {
     "name": "stdout",
     "output_type": "stream",
     "text": [
      "[5.1, 5.3, 5.5, 5.6, 5.8, 5.8, 5.9, 6.1, 6.2]\n"
     ]
    }
   ],
   "source": [
    "Height = [5.6,5.8,5.9,5.3,5.5,5.1,6.1,6.2,5.8]\n",
    "Height.sort()\n",
    "print(Height)"
   ]
  },
  {
   "cell_type": "code",
   "execution_count": 42,
   "metadata": {},
   "outputs": [
    {
     "name": "stdout",
     "output_type": "stream",
     "text": [
      "5.0\n"
     ]
    }
   ],
   "source": [
    "n = len(Height)\n",
    "# the (n+1)/2 th position in the list\n",
    "medpos = (n+1)/2\n",
    "print(medpos)"
   ]
  },
  {
   "cell_type": "code",
   "execution_count": 36,
   "metadata": {},
   "outputs": [
    {
     "name": "stdout",
     "output_type": "stream",
     "text": [
      "5.8\n"
     ]
    }
   ],
   "source": [
    "#median is the (n+1)/2 = 5th number in the list\n",
    "print(Height[4])"
   ]
  },
  {
   "cell_type": "code",
   "execution_count": 43,
   "metadata": {},
   "outputs": [
    {
     "name": "stdout",
     "output_type": "stream",
     "text": [
      "[5.1, 5.3, 5.5, 5.6, 5.8, 5.8, 5.9, 6.1, 6.2, 6.4]\n"
     ]
    }
   ],
   "source": [
    "Height.append(6.4)#the opposite is remove(itemname)\n",
    "Height.sort()\n",
    "print(Height)"
   ]
  },
  {
   "cell_type": "code",
   "execution_count": 46,
   "metadata": {},
   "outputs": [
    {
     "name": "stdout",
     "output_type": "stream",
     "text": [
      "5.0 6.0\n"
     ]
    }
   ],
   "source": [
    "#average of n/2th and (n/2 + 1)th itmes is the median\n",
    "n1 = len(Height)\n",
    "print(n1/2,n1/2 + 1 )"
   ]
  },
  {
   "cell_type": "code",
   "execution_count": 49,
   "metadata": {},
   "outputs": [
    {
     "name": "stdout",
     "output_type": "stream",
     "text": [
      "5.8\n"
     ]
    }
   ],
   "source": [
    "medpos1 = (Height[4] + Height[5])/2\n",
    "print(medpos1)"
   ]
  },
  {
   "cell_type": "markdown",
   "metadata": {
    "collapsed": true
   },
   "source": [
    "Here is the reference of the materials in this page:\n",
    "The following materials were consulted during development of this notebook:\n",
    "\n",
    "J. Zelle, Python Programming: An Introduction to Computer Science, 2nd ed. Sherwood, Oregon: Franklin, Beedle & Associates Inc., 2010.\n",
    "\n",
    "Python 3 Documentation from the Python Software Foundation: https://docs.python.org/3/\n"
   ]
  },
  {
   "cell_type": "code",
   "execution_count": null,
   "metadata": {
    "collapsed": true
   },
   "outputs": [],
   "source": []
  }
 ],
 "metadata": {
  "kernelspec": {
   "display_name": "Python 3",
   "language": "python",
   "name": "python3"
  },
  "language_info": {
   "codemirror_mode": {
    "name": "ipython",
    "version": 3
   },
   "file_extension": ".py",
   "mimetype": "text/x-python",
   "name": "python",
   "nbconvert_exporter": "python",
   "pygments_lexer": "ipython3",
   "version": "3.6.1"
  }
 },
 "nbformat": 4,
 "nbformat_minor": 2
}
